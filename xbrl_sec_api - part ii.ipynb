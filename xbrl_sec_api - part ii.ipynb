{
 "cells": [
  {
   "cell_type": "markdown",
   "metadata": {
    "pycharm": {
     "name": "#%% md\n"
    }
   },
   "source": [
    "# Getting numeric financial information from XBRL data - Part II\n",
    "\n",
    "This notebook contains example Python code to get numeric data available in XBRL financial reports using the [SEC's EDGAR XBRL API](https://www.sec.gov/edgar/sec-api-documentation).\n",
    "\n",
    "**Made by:**  [Roman Chychyla](https://people.miami.edu/profile/rxc303@miami.edu)"
   ]
  },
  {
   "cell_type": "markdown",
   "metadata": {
    "pycharm": {
     "name": "#%% md\n"
    }
   },
   "source": [
    "## Example: Getting fundamentals XBRL data through EDGAR API using Python for multiple companies\n",
    "\n",
    "Previously we extracted XBRL financial data for a single company. In this example, we will process all EDGAR API's XBRL JSON files in a given folder."
   ]
  },
  {
   "cell_type": "code",
   "execution_count": null,
   "metadata": {
    "collapsed": false,
    "jupyter": {
     "outputs_hidden": false
    },
    "pycharm": {
     "name": "#%%\n"
    }
   },
   "outputs": [],
   "source": [
    "# python library to work with files and folders paths (locations)\n",
    "from pathlib import Path\n",
    "\n",
    "# specify path to folder with JSON files\n",
    "input_xbrl_data_folder =  Path('./companyfacts')\n",
    "# specify the output file\n",
    "output_file = Path('./xbrl_numeric_data.xlsx')\n",
    "\n",
    "# read all the files in the input folder\n",
    "files = list(input_xbrl_data_folder.glob('*.json'))"
   ]
  },
  {
   "cell_type": "markdown",
   "metadata": {
    "pycharm": {
     "name": "#%% md\n"
    }
   },
   "source": [
    "\n",
    "We can \"package\" all steps in Part I into a Python function that will take a filer XBRL JSON file as input, and output a dataframe with the filers' XBRL numeric data:\n"
   ]
  },
  {
   "cell_type": "code",
   "execution_count": null,
   "metadata": {
    "collapsed": false,
    "jupyter": {
     "outputs_hidden": false
    },
    "pycharm": {
     "name": "#%%\n"
    }
   },
   "outputs": [],
   "source": [
    "# python library to work with JSON data\n",
    "import json\n",
    "# library to work with tabular data\n",
    "import pandas as pd\n",
    "\n",
    "def get_xbrl_data(file, period_type = 'all', convert_to_wide = False):\n",
    "    \"\"\"This functions takes an EDGAR API JSON file as an input, and outputs a Pandas dataframe with\n",
    "    US GAAP XBRL numeric facts.\n",
    "    Set period_type to 'annual' to output only annual data.\n",
    "    Set convert_to_wide to True to convert the dataframe to the long format.\"\"\"\n",
    "\n",
    "    # set the output of the function to None (in case, the data extraction fails)\n",
    "    output = None\n",
    "\n",
    "    # load json file\n",
    "    with open(file,'r') as f:\n",
    "        json_data = json.load(f)\n",
    "\n",
    "    # check if CIK is present in the json file; if not skip the file\n",
    "    if 'cik' in json_data:\n",
    "        # record CIK in a Python variable\n",
    "        cik = json_data['cik']\n",
    "        # create an empty list; it will be used to store dataframes for all XBRL tags present in the JSON data\n",
    "        tag_dfs = []\n",
    "        # check if there are any US GAAP XBRL facts\n",
    "        if 'us-gaap' in json_data['facts']:\n",
    "            # loop over all XBRL tags, and process them one by one\n",
    "            for tag,details in json_data['facts']['us-gaap'].items():\n",
    "                # consider monetary XBRL tags measures in U.S. Dollars\n",
    "                if 'units' in details and 'USD' in details['units']:\n",
    "                    # get all facts for the given tag\n",
    "                    tag_facts = details['units']['USD']\n",
    "                    # create dataframe\n",
    "                    tag_df = pd.DataFrame(tag_facts)\n",
    "                    # remove  duplicates\n",
    "                    tag_df =  tag_df.sort_values('end',ascending=False).drop_duplicates(['fy','fp'])\n",
    "                    # add CIK information\n",
    "                    tag_df['cik'] = cik\n",
    "                    # add tag name information\n",
    "                    tag_df['tag'] = tag\n",
    "                    # add the table to the list of tables\n",
    "                    tag_dfs.append(tag_df)\n",
    "\n",
    "            # check if the dataframe list is not empty\n",
    "            if len(tag_dfs) > 0 :\n",
    "                # if not, create one big table with all the data\n",
    "                cik_df = pd.concat(tag_dfs)\n",
    "                # keep only annual data, if requested\n",
    "                if period_type == 'annual':\n",
    "                    cik_df = cik_df[cik_df['fp'] == 'FY']\n",
    "                # convert to wide, if requested\n",
    "                if convert_to_wide:\n",
    "                    cik_df = pd.pivot(cik_df, index = ['cik','fy','fp'], columns = 'tag', values = 'val').reset_index()\n",
    "                # set output to the resulting dataframe\n",
    "                output = cik_df\n",
    "\n",
    "    return output"
   ]
  },
  {
   "cell_type": "code",
   "execution_count": null,
   "metadata": {
    "collapsed": false,
    "jupyter": {
     "outputs_hidden": false
    },
    "pycharm": {
     "name": "#%%\n"
    }
   },
   "outputs": [],
   "source": [
    "# Example: get all data in the long format\n",
    "\n",
    "# get the first file; in Python counts start with 0\n",
    "file = files[0]\n",
    "\n",
    "get_xbrl_data(file)"
   ]
  },
  {
   "cell_type": "code",
   "execution_count": null,
   "metadata": {
    "collapsed": false,
    "jupyter": {
     "outputs_hidden": false
    },
    "pycharm": {
     "name": "#%%\n"
    }
   },
   "outputs": [],
   "source": [
    "# Example get annual-only data in the wide format\n",
    "get_xbrl_data(file, period_type = 'annual', convert_to_wide=True)"
   ]
  },
  {
   "cell_type": "markdown",
   "metadata": {
    "pycharm": {
     "name": "#%% md\n"
    }
   },
   "source": [
    "Now we can apply the above function sequentially to JSON files in the input folder, and merge all resulting tables into one big table"
   ]
  },
  {
   "cell_type": "code",
   "execution_count": null,
   "metadata": {
    "collapsed": false,
    "jupyter": {
     "outputs_hidden": false
    },
    "pycharm": {
     "name": "#%%\n"
    }
   },
   "outputs": [],
   "source": [
    "# create a list to store filer-level tables\n",
    "cik_tables = []\n",
    "# loop over all the files\n",
    "for f in files:\n",
    "    # create a table with XBRL data for the given filer\n",
    "    cik_xbrl_table = get_xbrl_data(f, period_type='annual', convert_to_wide=True)\n",
    "    # if the table is not empty, add it to the list of XBRL tables\n",
    "    if cik_xbrl_table is not None:\n",
    "        cik_tables.append(cik_xbrl_table)\n",
    "\n",
    "# merge all the filer tables into one big table\n",
    "final_df = pd.concat(cik_tables).reset_index(drop=True)\n",
    "# output the result\n",
    "final_df.head(10)"
   ]
  },
  {
   "cell_type": "code",
   "execution_count": null,
   "metadata": {
    "collapsed": false,
    "jupyter": {
     "outputs_hidden": false
    },
    "pycharm": {
     "name": "#%%\n"
    }
   },
   "outputs": [],
   "source": [
    "# save the final table to an Excel file\n",
    "final_df.to_excel(output_file, index = False)"
   ]
  }
 ],
 "metadata": {
  "kernelspec": {
   "display_name": "Python 3 (ipykernel)",
   "language": "python",
   "name": "python3"
  },
  "language_info": {
   "codemirror_mode": {
    "name": "ipython",
    "version": 3
   },
   "file_extension": ".py",
   "mimetype": "text/x-python",
   "name": "python",
   "nbconvert_exporter": "python",
   "pygments_lexer": "ipython3",
   "version": "3.9.12"
  }
 },
 "nbformat": 4,
 "nbformat_minor": 4
}
